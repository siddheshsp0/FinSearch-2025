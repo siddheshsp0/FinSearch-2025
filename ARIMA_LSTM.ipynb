{
  "nbformat": 4,
  "nbformat_minor": 0,
  "metadata": {
    "colab": {
      "provenance": [],
      "include_colab_link": true
    },
    "kernelspec": {
      "name": "python3",
      "display_name": "Python 3"
    },
    "language_info": {
      "name": "python"
    }
  },
  "cells": [
    {
      "cell_type": "markdown",
      "metadata": {
        "id": "view-in-github",
        "colab_type": "text"
      },
      "source": [
        "<a href=\"https://colab.research.google.com/github/siddheshsp0/FinSearch-2025/blob/master/ARIMA_LSTM.ipynb\" target=\"_parent\"><img src=\"https://colab.research.google.com/assets/colab-badge.svg\" alt=\"Open In Colab\"/></a>"
      ]
    },
    {
      "cell_type": "code",
      "source": [
        "import pandas as pd\n",
        "import numpy as np\n",
        "import yfinance as yf\n",
        "from statsmodels.tsa.arima.model import ARIMA\n",
        "from sklearn.preprocessing import MinMaxScaler\n",
        "from tensorflow.keras.models import Sequential\n",
        "from tensorflow.keras.layers import LSTM, Dense, Dropout\n",
        "\n",
        "# Financial metrics functions\n",
        "def calc_metrics(prices, rf=0.02):\n",
        "    returns = np.diff(prices) / prices[:-1]\n",
        "    volatility = np.std(returns) * np.sqrt(252)\n",
        "    sharpe_ratio = (np.mean(returns) * 252 - rf) / volatility if volatility != 0 else np.nan\n",
        "    # Max drawdown\n",
        "    cumulative = np.cumprod(1 + returns)\n",
        "    peak = np.maximum.accumulate(cumulative)\n",
        "    drawdown = (cumulative - peak) / peak\n",
        "    max_dd = np.min(drawdown)\n",
        "    # Total return\n",
        "    total_return = (prices[-1] / prices[0]) - 1\n",
        "    return volatility, sharpe_ratio, max_dd, total_return\n",
        "\n",
        "tickers = ['RELIANCE.NS', 'TCS.NS']\n",
        "start_date = \"2010-01-01\"\n",
        "end_date = \"2019-06-30\"\n",
        "\n",
        "for ticker in tickers:\n",
        "    print(f\"\\nProcessing {ticker}\")\n",
        "\n",
        "    # Download data\n",
        "    df = yf.download(ticker, start=start_date, end=end_date)\n",
        "    df.dropna(inplace=True)\n",
        "    close_prices = df['Close'].values\n",
        "    dates = df.index\n",
        "\n",
        "    # ---- ARIMA ---- #\n",
        "    print(\"ARIMA Model:\")\n",
        "    model = ARIMA(close_prices, order=(5, 1, 0))  # ARIMA(5,1,0)\n",
        "    arima_fit = model.fit()\n",
        "\n",
        "    # Ensure close_prices is 1D\n",
        "    close_prices_1d = close_prices.flatten() if close_prices.ndim > 1 else close_prices\n",
        "\n",
        "    forecast_steps = 30\n",
        "    forecast = arima_fit.forecast(steps=forecast_steps)\n",
        "    forecast = forecast.values if hasattr(forecast, 'values') else forecast\n",
        "    forecast_prices = np.concatenate([close_prices_1d, forecast])\n",
        "\n",
        "    # ARIMA metrics\n",
        "    volatility, sharpe, max_dd, total_ret = calc_metrics(forecast_prices)\n",
        "    print(f\"Volatility: {volatility:.4f}, Sharpe Ratio: {sharpe:.4f}, \"\n",
        "          f\"Max Drawdown: {max_dd:.4f}, Total Return: {total_ret:.4%}\")\n",
        "\n",
        "    # ---- LSTM ---- #\n",
        "    print(\"\\nLSTM Model:\")\n",
        "    scaler = MinMaxScaler(feature_range=(0, 1))\n",
        "    scaled_close = scaler.fit_transform(close_prices.reshape(-1,1))\n",
        "\n",
        "    # Prepare training data\n",
        "    window = 60\n",
        "    X, y = [], []\n",
        "    for i in range(window, len(scaled_close)):\n",
        "        X.append(scaled_close[i-window:i, 0])\n",
        "        y.append(scaled_close[i, 0])\n",
        "    X, y = np.array(X), np.array(y)\n",
        "\n",
        "    # Train/test split\n",
        "    split = int(0.8 * len(X))\n",
        "    X_train, y_train = X[:split], y[:split]\n",
        "    X_test, y_test = X[split:], y[split:]\n",
        "\n",
        "    # Reshape for LSTM (samples, timesteps, features)\n",
        "    X_train = X_train.reshape((X_train.shape[0], X_train.shape[1], 1))\n",
        "    X_test = X_test.reshape((X_test.shape[0], X_test.shape[1], 1))\n",
        "\n",
        "    # Build & train LSTM\n",
        "    lstm_model = Sequential()\n",
        "    lstm_model.add(LSTM(50, return_sequences=True, input_shape=(window, 1)))\n",
        "    lstm_model.add(Dropout(0.2))\n",
        "    lstm_model.add(LSTM(50, return_sequences=False))\n",
        "    lstm_model.add(Dropout(0.2))\n",
        "    lstm_model.add(Dense(25))\n",
        "    lstm_model.add(Dense(1))\n",
        "    lstm_model.compile(optimizer='adam', loss='mean_squared_error')\n",
        "    lstm_model.fit(X_train, y_train, batch_size=32, epochs=50, verbose=0)  # silent training\n",
        "\n",
        "    # Predictions & inverse transform\n",
        "    lstm_preds = lstm_model.predict(X_test)\n",
        "    lstm_preds = scaler.inverse_transform(lstm_preds.reshape(-1,1)).flatten()\n",
        "    actual_test = scaler.inverse_transform(y_test.reshape(-1,1)).flatten()\n",
        "\n",
        "    lstm_prices = np.concatenate([\n",
        "        close_prices[:split+window].flatten(),\n",
        "        lstm_preds.flatten()\n",
        "    ])\n",
        "\n",
        "    # LSTM metrics\n",
        "    volatility, sharpe, max_dd, total_ret = calc_metrics(lstm_prices)\n",
        "    print(f\"Volatility: {volatility:.4f}, Sharpe Ratio: {sharpe:.4f}, \"\n",
        "          f\"Max Drawdown: {max_dd:.4f}, Total Return: {total_ret:.4%}\")\n",
        "\n",
        "\n"
      ],
      "metadata": {
        "colab": {
          "base_uri": "https://localhost:8080/"
        },
        "id": "G8RlB_e0q41n",
        "outputId": "b2d14304-063e-4b35-ea60-1c2768c1d81d"
      },
      "execution_count": null,
      "outputs": [
        {
          "output_type": "stream",
          "name": "stderr",
          "text": [
            "/tmp/ipython-input-1921973770.py:31: FutureWarning: YF.download() has changed argument auto_adjust default to True\n",
            "  df = yf.download(ticker, start=start_date, end=end_date)\n",
            "\r[*********************100%***********************]  1 of 1 completed"
          ]
        },
        {
          "output_type": "stream",
          "name": "stdout",
          "text": [
            "\n",
            "Processing RELIANCE.NS\n",
            "ARIMA Model:\n"
          ]
        },
        {
          "output_type": "stream",
          "name": "stderr",
          "text": [
            "\n"
          ]
        },
        {
          "output_type": "stream",
          "name": "stdout",
          "text": [
            "Volatility: 0.2588, Sharpe Ratio: 0.4370, Max Drawdown: -0.3915, Total Return: 154.9999%\n",
            "\n",
            "LSTM Model:\n"
          ]
        },
        {
          "output_type": "stream",
          "name": "stderr",
          "text": [
            "/usr/local/lib/python3.11/dist-packages/keras/src/layers/rnn/rnn.py:199: UserWarning: Do not pass an `input_shape`/`input_dim` argument to a layer. When using Sequential models, prefer using an `Input(shape)` object as the first layer in the model instead.\n",
            "  super().__init__(**kwargs)\n"
          ]
        },
        {
          "output_type": "stream",
          "name": "stdout",
          "text": [
            "\u001b[1m15/15\u001b[0m \u001b[32m━━━━━━━━━━━━━━━━━━━━\u001b[0m\u001b[37m\u001b[0m \u001b[1m1s\u001b[0m 32ms/step\n",
            "Volatility: 0.2459, Sharpe Ratio: 0.4520, Max Drawdown: -0.3915, Total Return: 155.0885%\n",
            "\n",
            "Processing TCS.NS\n"
          ]
        },
        {
          "output_type": "stream",
          "name": "stderr",
          "text": [
            "/tmp/ipython-input-1921973770.py:31: FutureWarning: YF.download() has changed argument auto_adjust default to True\n",
            "  df = yf.download(ticker, start=start_date, end=end_date)\n",
            "[*********************100%***********************]  1 of 1 completed\n"
          ]
        },
        {
          "output_type": "stream",
          "name": "stdout",
          "text": [
            "ARIMA Model:\n",
            "Volatility: 0.2491, Sharpe Ratio: 0.8682, Max Drawdown: -0.2525, Total Return: 587.8635%\n",
            "\n",
            "LSTM Model:\n"
          ]
        },
        {
          "output_type": "stream",
          "name": "stderr",
          "text": [
            "/usr/local/lib/python3.11/dist-packages/keras/src/layers/rnn/rnn.py:199: UserWarning: Do not pass an `input_shape`/`input_dim` argument to a layer. When using Sequential models, prefer using an `Input(shape)` object as the first layer in the model instead.\n",
            "  super().__init__(**kwargs)\n"
          ]
        },
        {
          "output_type": "stream",
          "name": "stdout",
          "text": [
            "\u001b[1m15/15\u001b[0m \u001b[32m━━━━━━━━━━━━━━━━━━━━\u001b[0m\u001b[37m\u001b[0m \u001b[1m1s\u001b[0m 33ms/step\n",
            "Volatility: 0.2335, Sharpe Ratio: 0.9027, Max Drawdown: -0.2525, Total Return: 560.5551%\n"
          ]
        }
      ]
    },
    {
      "cell_type": "code",
      "source": [],
      "metadata": {
        "id": "djeNvwuqJn_B"
      },
      "execution_count": null,
      "outputs": []
    }
  ]
}