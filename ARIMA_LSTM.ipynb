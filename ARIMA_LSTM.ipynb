{
  "cells": [
    {
      "cell_type": "markdown",
      "metadata": {
        "id": "view-in-github",
        "colab_type": "text"
      },
      "source": [
        "<a href=\"https://colab.research.google.com/github/siddheshsp0/FinSearch-2025/blob/master/ARIMA_LSTM.ipynb\" target=\"_parent\"><img src=\"https://colab.research.google.com/assets/colab-badge.svg\" alt=\"Open In Colab\"/></a>"
      ]
    },
    {
      "cell_type": "code",
      "execution_count": null,
      "metadata": {
        "id": "Fwxl4GWCJHr0"
      },
      "outputs": [],
      "source": []
    },
    {
      "cell_type": "code",
      "execution_count": null,
      "metadata": {
        "colab": {
          "background_save": true,
          "base_uri": "https://localhost:8080/",
          "height": 835
        },
        "id": "G8RlB_e0q41n",
        "outputId": "de162bb3-c31c-401a-990f-feea71ddf9bf"
      },
      "outputs": [
        {
          "name": "stderr",
          "output_type": "stream",
          "text": [
            "/tmp/ipython-input-3959928627.py:29: FutureWarning: YF.download() has changed argument auto_adjust default to True\n",
            "  df = yf.download(ticker, start=start_date, end=end_date)\n",
            "\r[*********************100%***********************]  1 of 1 completed"
          ]
        },
        {
          "name": "stdout",
          "output_type": "stream",
          "text": [
            "\n",
            "Processing RELIANCE.NS\n",
            "ARIMA Model:\n"
          ]
        },
        {
          "name": "stderr",
          "output_type": "stream",
          "text": [
            "\n"
          ]
        },
        {
          "name": "stdout",
          "output_type": "stream",
          "text": [
            "                               SARIMAX Results                                \n",
            "==============================================================================\n",
            "Dep. Variable:                      y   No. Observations:                 2339\n",
            "Model:                 ARIMA(5, 1, 0)   Log Likelihood               -6860.103\n",
            "Date:                Fri, 15 Aug 2025   AIC                          13732.207\n",
            "Time:                        14:34:25   BIC                          13766.749\n",
            "Sample:                             0   HQIC                         13744.790\n",
            "                               - 2339                                         \n",
            "Covariance Type:                  opg                                         \n",
            "==============================================================================\n",
            "                 coef    std err          z      P>|z|      [0.025      0.975]\n",
            "------------------------------------------------------------------------------\n",
            "ar.L1          0.0826      0.011      7.479      0.000       0.061       0.104\n",
            "ar.L2          0.0195      0.013      1.529      0.126      -0.005       0.044\n",
            "ar.L3         -0.0235      0.015     -1.619      0.105      -0.052       0.005\n",
            "ar.L4         -0.0342      0.014     -2.509      0.012      -0.061      -0.007\n",
            "ar.L5         -0.0616      0.014     -4.402      0.000      -0.089      -0.034\n",
            "sigma2        20.7077      0.311     66.603      0.000      20.098      21.317\n",
            "===================================================================================\n",
            "Ljung-Box (L1) (Q):                   0.02   Jarque-Bera (JB):              3581.72\n",
            "Prob(Q):                              0.90   Prob(JB):                         0.00\n",
            "Heteroskedasticity (H):               4.25   Skew:                             0.10\n",
            "Prob(H) (two-sided):                  0.00   Kurtosis:                         9.06\n",
            "===================================================================================\n",
            "\n",
            "Warnings:\n",
            "[1] Covariance matrix calculated using the outer product of gradients (complex-step).\n",
            "Volatility: 0.2588, Sharpe Ratio: 0.4370, Max Drawdown: -0.3915\n",
            "\n",
            "LSTM Model:\n"
          ]
        },
        {
          "ename": "TypeError",
          "evalue": "'tuple' object cannot be interpreted as an integer",
          "output_type": "error",
          "traceback": [
            "\u001b[0;31m---------------------------------------------------------------------------\u001b[0m",
            "\u001b[0;31mTypeError\u001b[0m                                 Traceback (most recent call last)",
            "\u001b[0;32m/tmp/ipython-input-3959928627.py\u001b[0m in \u001b[0;36m<cell line: 0>\u001b[0;34m()\u001b[0m\n\u001b[1;32m     69\u001b[0m     \u001b[0mX_test\u001b[0m\u001b[0;34m,\u001b[0m \u001b[0my_test\u001b[0m \u001b[0;34m=\u001b[0m \u001b[0mX\u001b[0m\u001b[0;34m[\u001b[0m\u001b[0msplit\u001b[0m\u001b[0;34m:\u001b[0m\u001b[0;34m]\u001b[0m\u001b[0;34m,\u001b[0m \u001b[0my\u001b[0m\u001b[0;34m[\u001b[0m\u001b[0msplit\u001b[0m\u001b[0;34m:\u001b[0m\u001b[0;34m]\u001b[0m\u001b[0;34m\u001b[0m\u001b[0;34m\u001b[0m\u001b[0m\n\u001b[1;32m     70\u001b[0m \u001b[0;34m\u001b[0m\u001b[0m\n\u001b[0;32m---> 71\u001b[0;31m     \u001b[0mX_train\u001b[0m \u001b[0;34m=\u001b[0m \u001b[0mX_train\u001b[0m\u001b[0;34m.\u001b[0m\u001b[0mreshape\u001b[0m\u001b[0;34m(\u001b[0m\u001b[0;34m(\u001b[0m\u001b[0mX_train\u001b[0m\u001b[0;34m.\u001b[0m\u001b[0mshape\u001b[0m\u001b[0;34m[\u001b[0m\u001b[0;36m0\u001b[0m\u001b[0;34m]\u001b[0m\u001b[0;34m,\u001b[0m \u001b[0mX_train\u001b[0m\u001b[0;34m.\u001b[0m\u001b[0mshape\u001b[0m\u001b[0;34m,\u001b[0m \u001b[0;36m1\u001b[0m\u001b[0;34m)\u001b[0m\u001b[0;34m)\u001b[0m\u001b[0;34m\u001b[0m\u001b[0;34m\u001b[0m\u001b[0m\n\u001b[0m\u001b[1;32m     72\u001b[0m     \u001b[0mX_test\u001b[0m \u001b[0;34m=\u001b[0m \u001b[0mX_test\u001b[0m\u001b[0;34m.\u001b[0m\u001b[0mreshape\u001b[0m\u001b[0;34m(\u001b[0m\u001b[0;34m(\u001b[0m\u001b[0mX_test\u001b[0m\u001b[0;34m.\u001b[0m\u001b[0mshape\u001b[0m\u001b[0;34m[\u001b[0m\u001b[0;36m0\u001b[0m\u001b[0;34m]\u001b[0m\u001b[0;34m,\u001b[0m \u001b[0mX_test\u001b[0m\u001b[0;34m.\u001b[0m\u001b[0mshape\u001b[0m\u001b[0;34m,\u001b[0m \u001b[0;36m1\u001b[0m\u001b[0;34m)\u001b[0m\u001b[0;34m)\u001b[0m\u001b[0;34m\u001b[0m\u001b[0;34m\u001b[0m\u001b[0m\n\u001b[1;32m     73\u001b[0m \u001b[0;34m\u001b[0m\u001b[0m\n",
            "\u001b[0;31mTypeError\u001b[0m: 'tuple' object cannot be interpreted as an integer"
          ]
        }
      ],
      "source": [
        "import pandas as pd\n",
        "import numpy as np\n",
        "import yfinance as yf\n",
        "from statsmodels.tsa.arima.model import ARIMA\n",
        "from sklearn.preprocessing import MinMaxScaler\n",
        "from tensorflow.keras.models import Sequential\n",
        "from tensorflow.keras.layers import LSTM, Dense, Dropout\n",
        "\n",
        "# Financial metrics functions\n",
        "def calc_metrics(prices, rf=0.02):\n",
        "    returns = np.diff(prices) / prices[:-1]\n",
        "    volatility = np.std(returns) * np.sqrt(252)\n",
        "    sharpe_ratio = (np.mean(returns) * 252 - rf) / volatility if volatility != 0 else np.nan\n",
        "    # Max drawdown\n",
        "    cumulative = np.cumprod(1 + returns)\n",
        "    peak = np.maximum.accumulate(cumulative)\n",
        "    drawdown = (cumulative - peak) / peak\n",
        "    max_dd = np.min(drawdown)\n",
        "    return volatility, sharpe_ratio, max_dd\n",
        "\n",
        "tickers = ['RELIANCE.NS', 'TCS.NS', 'INFY.NS']\n",
        "start_date = \"2010-01-01\"\n",
        "end_date = \"2019-06-30\"\n",
        "\n",
        "for ticker in tickers:\n",
        "    print(f\"\\nProcessing {ticker}\")\n",
        "\n",
        "    # Download data\n",
        "    df = yf.download(ticker, start=start_date, end=end_date)\n",
        "    df.dropna(inplace=True)\n",
        "    close_prices = df['Close'].values\n",
        "    dates = df.index\n",
        "\n",
        "    # ---- ARIMA ---- #\n",
        "    print(\"ARIMA Model:\")\n",
        "    model = ARIMA(close_prices, order=(5, 1, 0))  # ARIMA(5,1,0)\n",
        "    arima_fit = model.fit()\n",
        "\n",
        "    # Ensure close_prices is 1D for concatenation\n",
        "    close_prices_1d = close_prices.flatten() if close_prices.ndim > 1 else close_prices\n",
        "\n",
        "\n",
        "    forecast_steps = 30\n",
        "    forecast = arima_fit.forecast(steps=forecast_steps)\n",
        "    forecast = forecast.values if hasattr(forecast, 'values') else forecast\n",
        "    forecast_prices = np.concatenate([close_prices_1d, forecast])\n",
        "\n",
        "    # ARIMA metrics (on entire forecast path)\n",
        "    volatility, sharpe, max_dd = calc_metrics(forecast_prices)\n",
        "    print(arima_fit.summary())\n",
        "    print(f\"Volatility: {volatility:.4f}, Sharpe Ratio: {sharpe:.4f}, Max Drawdown: {max_dd:.4f}\")\n",
        "\n",
        "    # ---- LSTM ---- #\n",
        "    print(\"\\nLSTM Model:\")\n",
        "    scaler = MinMaxScaler(feature_range=(0, 1))\n",
        "    scaled_close = scaler.fit_transform(close_prices.reshape(-1,1))\n",
        "\n",
        "    # Prepare training data\n",
        "    window = 60\n",
        "    X, y = [], []\n",
        "    for i in range(window, len(scaled_close)):\n",
        "        X.append(scaled_close[i-window:i, 0])\n",
        "        y.append(scaled_close[i, 0])\n",
        "    X, y = np.array(X), np.array(y)\n",
        "\n",
        "    # Train/test split\n",
        "    split = int(0.8 * len(X))\n",
        "    X_train, y_train = X[:split], y[:split]\n",
        "    X_test, y_test = X[split:], y[split:]\n",
        "\n",
        "    X_train = X_train.reshape((X_train.shape[0], X_train.shape, 1))\n",
        "    X_test = X_test.reshape((X_test.shape, X_test.shape, 1))\n",
        "\n",
        "    # Build & train LSTM\n",
        "    lstm_model = Sequential()\n",
        "    lstm_model.add(LSTM(50, return_sequences=True, input_shape=(window, 1)))\n",
        "    lstm_model.add(Dropout(0.2))\n",
        "    lstm_model.add(LSTM(50, return_sequences=False))\n",
        "    lstm_model.add(Dropout(0.2))\n",
        "    lstm_model.add(Dense(25))\n",
        "    lstm_model.add(Dense(1))\n",
        "    lstm_model.compile(optimizer='adam', loss='mean_squared_error')\n",
        "    lstm_model.fit(X_train, y_train, batch_size=32, epochs=50, verbose=0)  # silent training\n",
        "\n",
        "    # Predictions & inverse transform\n",
        "    lstm_preds = lstm_model.predict(X_test)\n",
        "    lstm_preds = scaler.inverse_transform(lstm_preds.reshape(-1,1)).flatten()\n",
        "    actual_test = scaler.inverse_transform(y_test.reshape(-1,1)).flatten()\n",
        "\n",
        "    lstm_prices = np.concatenate([close_prices[:split+window], lstm_preds])\n",
        "\n",
        "    volatility, sharpe, max_dd = calc_metrics(lstm_prices)\n",
        "    print(f\"Volatility: {volatility:.4f}, Sharpe Ratio: {sharpe:.4f}, Max Drawdown: {max_dd:.4f}\")\n",
        "\n",
        "print(\"\\nProcessing completed for all tickers.\")\n"
      ]
    },
    {
      "cell_type": "code",
      "execution_count": null,
      "metadata": {
        "id": "djeNvwuqJn_B"
      },
      "outputs": [],
      "source": []
    }
  ],
  "metadata": {
    "colab": {
      "provenance": [],
      "include_colab_link": true
    },
    "kernelspec": {
      "display_name": "Python 3",
      "name": "python3"
    },
    "language_info": {
      "name": "python"
    }
  },
  "nbformat": 4,
  "nbformat_minor": 0
}